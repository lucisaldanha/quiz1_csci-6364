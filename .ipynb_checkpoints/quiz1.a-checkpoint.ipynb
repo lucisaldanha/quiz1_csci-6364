{
 "cells": [
  {
   "cell_type": "markdown",
   "id": "textile-prague",
   "metadata": {},
   "source": [
    "## TAKE HOME QUIZ 1.a\n"
   ]
  },
  {
   "cell_type": "markdown",
   "id": "green-clause",
   "metadata": {},
   "source": [
    "#### Lucieni A. da Gama Saldanha"
   ]
  },
  {
   "cell_type": "markdown",
   "id": "composite-incident",
   "metadata": {},
   "source": [
    "This quiz was proposed for the spring 2021 CSCI- 6364 class. \n",
    "\n"
   ]
  },
  {
   "cell_type": "markdown",
   "id": "healthy-tooth",
   "metadata": {},
   "source": [
    "Article: Fox, Maggie. (2020, May 26). CNN Health. Antibody tests for Covid-19 wrong up to half the time, CDC says. Retrieved from  https://www.cnn.com/2020/05/26/health/antibody-tests-cdc-coronavirus-wrong/index.html"
   ]
  },
  {
   "cell_type": "markdown",
   "id": "separated-morocco",
   "metadata": {},
   "source": [
    "## Article ideas\n"
   ]
  },
  {
   "cell_type": "markdown",
   "id": "forbidden-davis",
   "metadata": {},
   "source": [
    "A new CDC guidance rejecting the use of serologic test to policy decisions because even with a high accuracy measurement, it can give a higher number of false negatives, which can lead to missing cases (Fox, 2020, False positive, false confidence, para. 14).\n"
   ]
  },
  {
   "cell_type": "markdown",
   "id": "simplified-hawaiian",
   "metadata": {},
   "source": [
    "The article suggested that tests give higher accuracy results for a disease more commong among the population. It gave an argument that if 5% of the population tested had the virus, the accuracy of the test could be more than 90%, but the test could still miss half the cases.\n"
   ]
  },
  {
   "cell_type": "markdown",
   "id": "unknown-subsection",
   "metadata": {},
   "source": [
    "## Analyzing the article measurements"
   ]
  },
  {
   "cell_type": "markdown",
   "id": "dying-skiing",
   "metadata": {},
   "source": [
    "Taking the piece of article marked to be explained. Let's study a population where 5% of persons with the covid-19 antibodies, and a test accuracy of 90%, we could have the following:"
   ]
  },
  {
   "cell_type": "markdown",
   "id": "moderate-dress",
   "metadata": {},
   "source": [
    "Accuracy = (True Positive + True Negative)/(True Positive + True Negative + False Positive + False Negative)"
   ]
  },
  {
   "cell_type": "markdown",
   "id": "electric-eight",
   "metadata": {},
   "source": [
    "With an accuracy of 0.9, and 5% of people with the antibodies, lets assume that:\n"
   ]
  },
  {
   "cell_type": "code",
   "execution_count": 1,
   "id": "included-valuation",
   "metadata": {},
   "outputs": [],
   "source": [
    "# remember that we have few positive and more negative results, and \n",
    "# more false positive and fewer false negative results.\n",
    "tp = 2.5\n",
    "tn = 87.5\n",
    "fp = 7.5\n",
    "fn = 2.5"
   ]
  },
  {
   "cell_type": "code",
   "execution_count": 2,
   "id": "brazilian-joseph",
   "metadata": {},
   "outputs": [],
   "source": [
    "accuracy = (tp + tn)/(tp + tn + fp + fn)\n"
   ]
  },
  {
   "cell_type": "code",
   "execution_count": 3,
   "id": "external-surfing",
   "metadata": {},
   "outputs": [
    {
     "name": "stdout",
     "output_type": "stream",
     "text": [
      "0.9\n"
     ]
    }
   ],
   "source": [
    "print(accuracy)"
   ]
  },
  {
   "cell_type": "markdown",
   "id": "alert-george",
   "metadata": {},
   "source": [
    "To calculate the sensitivity (also called precision), which is a measure of percentage of correctly found or labeled people with covid-19 antibodies:\n"
   ]
  },
  {
   "cell_type": "code",
   "execution_count": 4,
   "id": "configured-egypt",
   "metadata": {},
   "outputs": [],
   "source": [
    "sensitivity = tp / (tp + fn)"
   ]
  },
  {
   "cell_type": "code",
   "execution_count": 5,
   "id": "ordered-marking",
   "metadata": {},
   "outputs": [
    {
     "name": "stdout",
     "output_type": "stream",
     "text": [
      "0.5\n"
     ]
    }
   ],
   "source": [
    "print(sensitivity)"
   ]
  },
  {
   "cell_type": "markdown",
   "id": "middle-reservoir",
   "metadata": {},
   "source": [
    "We have in this case 0.5 or 50% of correctly positive cases found, which was correctly pointed. Even with fewer false negatives, because there are few true positives, it will yield low sensitivity for the tests. The fewer false negatives with the fewer true positives gets magnified in the mathematical equation. "
   ]
  },
  {
   "cell_type": "markdown",
   "id": "respected-insulation",
   "metadata": {},
   "source": [
    "Confirming the idea that the test would only get around 50% of true cases."
   ]
  },
  {
   "cell_type": "markdown",
   "id": "driven-proof",
   "metadata": {},
   "source": [
    "Lets just check the specificity, which is a measure of percentage of correctly rejected or labeled people not with the covid-19 antibodies:\n"
   ]
  },
  {
   "cell_type": "code",
   "execution_count": 7,
   "id": "widespread-compatibility",
   "metadata": {},
   "outputs": [],
   "source": [
    "specificity = tn / (tn + fp)"
   ]
  },
  {
   "cell_type": "code",
   "execution_count": 8,
   "id": "least-short",
   "metadata": {},
   "outputs": [
    {
     "name": "stdout",
     "output_type": "stream",
     "text": [
      "The population has 5% of prevalence, and a test with 90% accuracy, would give a specificity of: 0.9210526315789473.\n"
     ]
    }
   ],
   "source": [
    "print(f\"The population has 5% of prevalence, and a test with 90% accuracy, would give a specificity of: {specificity}.\")"
   ]
  },
  {
   "cell_type": "markdown",
   "id": "known-commons",
   "metadata": {},
   "source": [
    "We can see that the specificity value for our study case is pretty high, around 0.92, which implies that 92% of the negative cases are correctly labeled by the test. "
   ]
  },
  {
   "cell_type": "markdown",
   "id": "enclosed-silver",
   "metadata": {},
   "source": [
    "If the true negative value is high, the false positive value will not be amplified as much, in comparison with the sensitivity case (where true positive was a low value and the false negative value, even low, was amplified)."
   ]
  }
 ],
 "metadata": {
  "kernelspec": {
   "display_name": "Python 3",
   "language": "python",
   "name": "python3"
  },
  "language_info": {
   "codemirror_mode": {
    "name": "ipython",
    "version": 3
   },
   "file_extension": ".py",
   "mimetype": "text/x-python",
   "name": "python",
   "nbconvert_exporter": "python",
   "pygments_lexer": "ipython3",
   "version": "3.6.9"
  }
 },
 "nbformat": 4,
 "nbformat_minor": 5
}
