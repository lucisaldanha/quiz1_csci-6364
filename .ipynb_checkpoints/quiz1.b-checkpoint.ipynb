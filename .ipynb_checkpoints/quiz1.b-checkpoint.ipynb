{
 "cells": [
  {
   "cell_type": "markdown",
   "id": "going-canada",
   "metadata": {},
   "source": [
    "# TAKE HOME QUIZ 1.B\n",
    "Lucieni Saldanha"
   ]
  },
  {
   "cell_type": "markdown",
   "id": "enclosed-badge",
   "metadata": {},
   "source": [
    "Steps:\n",
    "- Pick some data set (ground truth)\n",
    "- Generate a prediction set ( to be compared to ground truth)\n",
    "- Analyze predictions and ground truth applying evalution metrics, and explain results\n",
    "    "
   ]
  },
  {
   "cell_type": "code",
   "execution_count": 23,
   "id": "egyptian-gender",
   "metadata": {},
   "outputs": [
    {
     "data": {
      "text/plain": [
       "(891, 12)"
      ]
     },
     "execution_count": 23,
     "metadata": {},
     "output_type": "execute_result"
    }
   ],
   "source": [
    "# Download a training set from kaggle ( Titanic challenge - binary classification)\n",
    "# transform csv file to a pandas dataframe \n",
    "import pandas as pd\n",
    "data = pd.read_csv(\"./train.csv\")\n",
    "data.shape"
   ]
  },
  {
   "cell_type": "markdown",
   "id": "hollywood-looking",
   "metadata": {},
   "source": [
    "We see that our dataset has 891 rows of data, and 12 columns."
   ]
  },
  {
   "cell_type": "code",
   "execution_count": 24,
   "id": "consolidated-island",
   "metadata": {},
   "outputs": [
    {
     "data": {
      "text/plain": [
       "Index(['PassengerId', 'Survived', 'Pclass', 'Name', 'Sex', 'Age', 'SibSp',\n",
       "       'Parch', 'Ticket', 'Fare', 'Cabin', 'Embarked'],\n",
       "      dtype='object')"
      ]
     },
     "execution_count": 24,
     "metadata": {},
     "output_type": "execute_result"
    }
   ],
   "source": [
    "# visualize the list of columns in dataframe/dataset\n",
    "data.columns"
   ]
  },
  {
   "cell_type": "code",
   "execution_count": 25,
   "id": "recent-sheep",
   "metadata": {},
   "outputs": [
    {
     "data": {
      "text/html": [
       "<div>\n",
       "<style scoped>\n",
       "    .dataframe tbody tr th:only-of-type {\n",
       "        vertical-align: middle;\n",
       "    }\n",
       "\n",
       "    .dataframe tbody tr th {\n",
       "        vertical-align: top;\n",
       "    }\n",
       "\n",
       "    .dataframe thead th {\n",
       "        text-align: right;\n",
       "    }\n",
       "</style>\n",
       "<table border=\"1\" class=\"dataframe\">\n",
       "  <thead>\n",
       "    <tr style=\"text-align: right;\">\n",
       "      <th></th>\n",
       "      <th>PassengerId</th>\n",
       "      <th>Survived</th>\n",
       "      <th>Pclass</th>\n",
       "      <th>Name</th>\n",
       "      <th>Sex</th>\n",
       "      <th>Age</th>\n",
       "      <th>SibSp</th>\n",
       "      <th>Parch</th>\n",
       "      <th>Ticket</th>\n",
       "      <th>Fare</th>\n",
       "      <th>Cabin</th>\n",
       "      <th>Embarked</th>\n",
       "    </tr>\n",
       "  </thead>\n",
       "  <tbody>\n",
       "    <tr>\n",
       "      <th>0</th>\n",
       "      <td>1</td>\n",
       "      <td>0</td>\n",
       "      <td>3</td>\n",
       "      <td>Braund, Mr. Owen Harris</td>\n",
       "      <td>male</td>\n",
       "      <td>22.0</td>\n",
       "      <td>1</td>\n",
       "      <td>0</td>\n",
       "      <td>A/5 21171</td>\n",
       "      <td>7.2500</td>\n",
       "      <td>NaN</td>\n",
       "      <td>S</td>\n",
       "    </tr>\n",
       "    <tr>\n",
       "      <th>1</th>\n",
       "      <td>2</td>\n",
       "      <td>1</td>\n",
       "      <td>1</td>\n",
       "      <td>Cumings, Mrs. John Bradley (Florence Briggs Th...</td>\n",
       "      <td>female</td>\n",
       "      <td>38.0</td>\n",
       "      <td>1</td>\n",
       "      <td>0</td>\n",
       "      <td>PC 17599</td>\n",
       "      <td>71.2833</td>\n",
       "      <td>C85</td>\n",
       "      <td>C</td>\n",
       "    </tr>\n",
       "    <tr>\n",
       "      <th>2</th>\n",
       "      <td>3</td>\n",
       "      <td>1</td>\n",
       "      <td>3</td>\n",
       "      <td>Heikkinen, Miss. Laina</td>\n",
       "      <td>female</td>\n",
       "      <td>26.0</td>\n",
       "      <td>0</td>\n",
       "      <td>0</td>\n",
       "      <td>STON/O2. 3101282</td>\n",
       "      <td>7.9250</td>\n",
       "      <td>NaN</td>\n",
       "      <td>S</td>\n",
       "    </tr>\n",
       "    <tr>\n",
       "      <th>3</th>\n",
       "      <td>4</td>\n",
       "      <td>1</td>\n",
       "      <td>1</td>\n",
       "      <td>Futrelle, Mrs. Jacques Heath (Lily May Peel)</td>\n",
       "      <td>female</td>\n",
       "      <td>35.0</td>\n",
       "      <td>1</td>\n",
       "      <td>0</td>\n",
       "      <td>113803</td>\n",
       "      <td>53.1000</td>\n",
       "      <td>C123</td>\n",
       "      <td>S</td>\n",
       "    </tr>\n",
       "    <tr>\n",
       "      <th>4</th>\n",
       "      <td>5</td>\n",
       "      <td>0</td>\n",
       "      <td>3</td>\n",
       "      <td>Allen, Mr. William Henry</td>\n",
       "      <td>male</td>\n",
       "      <td>35.0</td>\n",
       "      <td>0</td>\n",
       "      <td>0</td>\n",
       "      <td>373450</td>\n",
       "      <td>8.0500</td>\n",
       "      <td>NaN</td>\n",
       "      <td>S</td>\n",
       "    </tr>\n",
       "  </tbody>\n",
       "</table>\n",
       "</div>"
      ],
      "text/plain": [
       "   PassengerId  Survived  Pclass  \\\n",
       "0            1         0       3   \n",
       "1            2         1       1   \n",
       "2            3         1       3   \n",
       "3            4         1       1   \n",
       "4            5         0       3   \n",
       "\n",
       "                                                Name     Sex   Age  SibSp  \\\n",
       "0                            Braund, Mr. Owen Harris    male  22.0      1   \n",
       "1  Cumings, Mrs. John Bradley (Florence Briggs Th...  female  38.0      1   \n",
       "2                             Heikkinen, Miss. Laina  female  26.0      0   \n",
       "3       Futrelle, Mrs. Jacques Heath (Lily May Peel)  female  35.0      1   \n",
       "4                           Allen, Mr. William Henry    male  35.0      0   \n",
       "\n",
       "   Parch            Ticket     Fare Cabin Embarked  \n",
       "0      0         A/5 21171   7.2500   NaN        S  \n",
       "1      0          PC 17599  71.2833   C85        C  \n",
       "2      0  STON/O2. 3101282   7.9250   NaN        S  \n",
       "3      0            113803  53.1000  C123        S  \n",
       "4      0            373450   8.0500   NaN        S  "
      ]
     },
     "execution_count": 25,
     "metadata": {},
     "output_type": "execute_result"
    }
   ],
   "source": [
    "# visualize the first 5 rows of our dataset\n",
    "data.head()"
   ]
  },
  {
   "cell_type": "markdown",
   "id": "developed-membership",
   "metadata": {},
   "source": [
    "We are only interested in the column 'Survived', to obtain a list of 0 and 1. The 'Survived' column with value equal to 0 meant the person did not survive , and for the value equal to 1 the person survived."
   ]
  },
  {
   "cell_type": "code",
   "execution_count": 26,
   "id": "dynamic-opposition",
   "metadata": {},
   "outputs": [
    {
     "name": "stdout",
     "output_type": "stream",
     "text": [
      "0    0\n",
      "1    1\n",
      "2    1\n",
      "3    1\n",
      "4    0\n",
      "5    0\n",
      "6    0\n",
      "7    0\n",
      "8    1\n",
      "9    1\n",
      "Name: Survived, dtype: int64\n"
     ]
    }
   ],
   "source": [
    "# select only column needed for evaluation\n",
    "is_survived = data.Survived\n",
    "print(is_survived.head(10))"
   ]
  },
  {
   "cell_type": "code",
   "execution_count": 27,
   "id": "middle-glenn",
   "metadata": {},
   "outputs": [
    {
     "name": "stdout",
     "output_type": "stream",
     "text": [
      "891\n"
     ]
    }
   ],
   "source": [
    "# check for integrity of selected values\n",
    "print(len(is_survived))"
   ]
  },
  {
   "cell_type": "markdown",
   "id": "western-reason",
   "metadata": {},
   "source": [
    "Lets generate a random list (that will be our predictions list), and populate it with 0 and 1."
   ]
  },
  {
   "cell_type": "code",
   "execution_count": 28,
   "id": "integrated-labor",
   "metadata": {},
   "outputs": [
    {
     "name": "stdout",
     "output_type": "stream",
     "text": [
      "[0, 0, 1, 1, 0, 1, 1, 0, 1, 0]\n"
     ]
    }
   ],
   "source": [
    "# generate a list with 891 elements, and shuffle elements.\n",
    "import random\n",
    "model_predictions = [0] * 445 + [1] * 446\n",
    "\n",
    "random.shuffle(model_predictions)\n",
    "\n",
    "print(model_predictions[0:10])\n"
   ]
  },
  {
   "cell_type": "code",
   "execution_count": 29,
   "id": "gentle-insert",
   "metadata": {},
   "outputs": [
    {
     "name": "stdout",
     "output_type": "stream",
     "text": [
      "(891, 1)\n"
     ]
    }
   ],
   "source": [
    "# turn list into a dataframe\n",
    "model_predictions_df = pd.DataFrame(model_predictions, columns=[\"Prediction\"])\n",
    "\n",
    "print(model_predictions_df.shape)\n"
   ]
  },
  {
   "cell_type": "code",
   "execution_count": 30,
   "id": "extra-roads",
   "metadata": {},
   "outputs": [
    {
     "name": "stdout",
     "output_type": "stream",
     "text": [
      "   Prediction\n",
      "0           0\n",
      "1           0\n",
      "2           1\n",
      "3           1\n",
      "4           0\n",
      "5           1\n",
      "6           1\n",
      "7           0\n",
      "8           1\n",
      "9           0\n"
     ]
    }
   ],
   "source": [
    "# print first 10 rows of predicted data\n",
    "print(model_predictions_df.head(10))"
   ]
  },
  {
   "cell_type": "markdown",
   "id": "second-tulsa",
   "metadata": {},
   "source": [
    "So far, we have obtained a data set with real values, is_survived, and generated a prediction data set, model_predictions_df.\n"
   ]
  },
  {
   "cell_type": "markdown",
   "id": "widespread-microwave",
   "metadata": {},
   "source": [
    "We need to evaluate the data is_survived and the model_predictions_df, using evaluation metrics for our binary classification problem.\n",
    "The metrics to be used:\n",
    "    \n",
    "    - Accuracy \n",
    "    - Precision-Recall\n",
    "    - ROC_AUC\n",
    "    - Log-loss\n",
    "     "
   ]
  },
  {
   "cell_type": "code",
   "execution_count": null,
   "id": "auburn-least",
   "metadata": {},
   "outputs": [],
   "source": []
  }
 ],
 "metadata": {
  "kernelspec": {
   "display_name": "Python 3",
   "language": "python",
   "name": "python3"
  },
  "language_info": {
   "codemirror_mode": {
    "name": "ipython",
    "version": 3
   },
   "file_extension": ".py",
   "mimetype": "text/x-python",
   "name": "python",
   "nbconvert_exporter": "python",
   "pygments_lexer": "ipython3",
   "version": "3.6.9"
  }
 },
 "nbformat": 4,
 "nbformat_minor": 5
}
