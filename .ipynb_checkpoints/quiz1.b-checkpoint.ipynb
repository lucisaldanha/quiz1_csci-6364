{
 "cells": [
  {
   "cell_type": "markdown",
   "id": "going-canada",
   "metadata": {},
   "source": [
    "# TAKE HOME QUIZ 1.B\n",
    "Lucieni Saldanha"
   ]
  },
  {
   "cell_type": "markdown",
   "id": "enclosed-badge",
   "metadata": {},
   "source": [
    "## Activities\n",
    "\n",
    "    - Pick some data set (ground truth)\n",
    "    - Generate a prediction set ( to be compared to ground truth)\n",
    "    - Analyze predictions and ground truth applying evalution metrics, and explain results\n",
    "    "
   ]
  },
  {
   "cell_type": "markdown",
   "id": "swiss-consumer",
   "metadata": {},
   "source": [
    "## Actual and Prediction Data"
   ]
  },
  {
   "cell_type": "code",
   "execution_count": 1,
   "id": "egyptian-gender",
   "metadata": {},
   "outputs": [
    {
     "data": {
      "text/plain": [
       "(891, 12)"
      ]
     },
     "execution_count": 1,
     "metadata": {},
     "output_type": "execute_result"
    }
   ],
   "source": [
    "# Download a training set from kaggle ( Titanic challenge - binary classification)\n",
    "# transform csv file to a pandas dataframe \n",
    "import pandas as pd\n",
    "data = pd.read_csv(\"./train.csv\")\n",
    "data.shape"
   ]
  },
  {
   "cell_type": "markdown",
   "id": "hollywood-looking",
   "metadata": {},
   "source": [
    "We see that our dataset has 891 rows of data, and 12 columns."
   ]
  },
  {
   "cell_type": "code",
   "execution_count": 2,
   "id": "consolidated-island",
   "metadata": {},
   "outputs": [
    {
     "data": {
      "text/plain": [
       "Index(['PassengerId', 'Survived', 'Pclass', 'Name', 'Sex', 'Age', 'SibSp',\n",
       "       'Parch', 'Ticket', 'Fare', 'Cabin', 'Embarked'],\n",
       "      dtype='object')"
      ]
     },
     "execution_count": 2,
     "metadata": {},
     "output_type": "execute_result"
    }
   ],
   "source": [
    "# visualize the list of columns in dataframe/dataset\n",
    "data.columns"
   ]
  },
  {
   "cell_type": "code",
   "execution_count": 3,
   "id": "recent-sheep",
   "metadata": {},
   "outputs": [
    {
     "data": {
      "text/html": [
       "<div>\n",
       "<style scoped>\n",
       "    .dataframe tbody tr th:only-of-type {\n",
       "        vertical-align: middle;\n",
       "    }\n",
       "\n",
       "    .dataframe tbody tr th {\n",
       "        vertical-align: top;\n",
       "    }\n",
       "\n",
       "    .dataframe thead th {\n",
       "        text-align: right;\n",
       "    }\n",
       "</style>\n",
       "<table border=\"1\" class=\"dataframe\">\n",
       "  <thead>\n",
       "    <tr style=\"text-align: right;\">\n",
       "      <th></th>\n",
       "      <th>PassengerId</th>\n",
       "      <th>Survived</th>\n",
       "      <th>Pclass</th>\n",
       "      <th>Name</th>\n",
       "      <th>Sex</th>\n",
       "      <th>Age</th>\n",
       "      <th>SibSp</th>\n",
       "      <th>Parch</th>\n",
       "      <th>Ticket</th>\n",
       "      <th>Fare</th>\n",
       "      <th>Cabin</th>\n",
       "      <th>Embarked</th>\n",
       "    </tr>\n",
       "  </thead>\n",
       "  <tbody>\n",
       "    <tr>\n",
       "      <th>0</th>\n",
       "      <td>1</td>\n",
       "      <td>0</td>\n",
       "      <td>3</td>\n",
       "      <td>Braund, Mr. Owen Harris</td>\n",
       "      <td>male</td>\n",
       "      <td>22.0</td>\n",
       "      <td>1</td>\n",
       "      <td>0</td>\n",
       "      <td>A/5 21171</td>\n",
       "      <td>7.2500</td>\n",
       "      <td>NaN</td>\n",
       "      <td>S</td>\n",
       "    </tr>\n",
       "    <tr>\n",
       "      <th>1</th>\n",
       "      <td>2</td>\n",
       "      <td>1</td>\n",
       "      <td>1</td>\n",
       "      <td>Cumings, Mrs. John Bradley (Florence Briggs Th...</td>\n",
       "      <td>female</td>\n",
       "      <td>38.0</td>\n",
       "      <td>1</td>\n",
       "      <td>0</td>\n",
       "      <td>PC 17599</td>\n",
       "      <td>71.2833</td>\n",
       "      <td>C85</td>\n",
       "      <td>C</td>\n",
       "    </tr>\n",
       "    <tr>\n",
       "      <th>2</th>\n",
       "      <td>3</td>\n",
       "      <td>1</td>\n",
       "      <td>3</td>\n",
       "      <td>Heikkinen, Miss. Laina</td>\n",
       "      <td>female</td>\n",
       "      <td>26.0</td>\n",
       "      <td>0</td>\n",
       "      <td>0</td>\n",
       "      <td>STON/O2. 3101282</td>\n",
       "      <td>7.9250</td>\n",
       "      <td>NaN</td>\n",
       "      <td>S</td>\n",
       "    </tr>\n",
       "    <tr>\n",
       "      <th>3</th>\n",
       "      <td>4</td>\n",
       "      <td>1</td>\n",
       "      <td>1</td>\n",
       "      <td>Futrelle, Mrs. Jacques Heath (Lily May Peel)</td>\n",
       "      <td>female</td>\n",
       "      <td>35.0</td>\n",
       "      <td>1</td>\n",
       "      <td>0</td>\n",
       "      <td>113803</td>\n",
       "      <td>53.1000</td>\n",
       "      <td>C123</td>\n",
       "      <td>S</td>\n",
       "    </tr>\n",
       "    <tr>\n",
       "      <th>4</th>\n",
       "      <td>5</td>\n",
       "      <td>0</td>\n",
       "      <td>3</td>\n",
       "      <td>Allen, Mr. William Henry</td>\n",
       "      <td>male</td>\n",
       "      <td>35.0</td>\n",
       "      <td>0</td>\n",
       "      <td>0</td>\n",
       "      <td>373450</td>\n",
       "      <td>8.0500</td>\n",
       "      <td>NaN</td>\n",
       "      <td>S</td>\n",
       "    </tr>\n",
       "  </tbody>\n",
       "</table>\n",
       "</div>"
      ],
      "text/plain": [
       "   PassengerId  Survived  Pclass  \\\n",
       "0            1         0       3   \n",
       "1            2         1       1   \n",
       "2            3         1       3   \n",
       "3            4         1       1   \n",
       "4            5         0       3   \n",
       "\n",
       "                                                Name     Sex   Age  SibSp  \\\n",
       "0                            Braund, Mr. Owen Harris    male  22.0      1   \n",
       "1  Cumings, Mrs. John Bradley (Florence Briggs Th...  female  38.0      1   \n",
       "2                             Heikkinen, Miss. Laina  female  26.0      0   \n",
       "3       Futrelle, Mrs. Jacques Heath (Lily May Peel)  female  35.0      1   \n",
       "4                           Allen, Mr. William Henry    male  35.0      0   \n",
       "\n",
       "   Parch            Ticket     Fare Cabin Embarked  \n",
       "0      0         A/5 21171   7.2500   NaN        S  \n",
       "1      0          PC 17599  71.2833   C85        C  \n",
       "2      0  STON/O2. 3101282   7.9250   NaN        S  \n",
       "3      0            113803  53.1000  C123        S  \n",
       "4      0            373450   8.0500   NaN        S  "
      ]
     },
     "execution_count": 3,
     "metadata": {},
     "output_type": "execute_result"
    }
   ],
   "source": [
    "# visualize the first 5 rows of our dataset\n",
    "data.head()"
   ]
  },
  {
   "cell_type": "markdown",
   "id": "developed-membership",
   "metadata": {},
   "source": [
    "We are only interested in the column 'Survived', to obtain a list of 0 and 1. The 'Survived' column with value equal to 0 meant the person did not survive , and for the value equal to 1 the person survived."
   ]
  },
  {
   "cell_type": "code",
   "execution_count": 4,
   "id": "dynamic-opposition",
   "metadata": {},
   "outputs": [
    {
     "name": "stdout",
     "output_type": "stream",
     "text": [
      "0    0\n",
      "1    1\n",
      "2    1\n",
      "3    1\n",
      "4    0\n",
      "5    0\n",
      "6    0\n",
      "7    0\n",
      "8    1\n",
      "9    1\n",
      "Name: Survived, dtype: int64\n"
     ]
    }
   ],
   "source": [
    "# select only column needed for evaluation\n",
    "is_survived = data.Survived\n",
    "print(is_survived.head(10))"
   ]
  },
  {
   "cell_type": "code",
   "execution_count": 5,
   "id": "middle-glenn",
   "metadata": {},
   "outputs": [
    {
     "name": "stdout",
     "output_type": "stream",
     "text": [
      "891\n"
     ]
    }
   ],
   "source": [
    "# check for integrity of selected values\n",
    "print(len(is_survived))"
   ]
  },
  {
   "cell_type": "markdown",
   "id": "western-reason",
   "metadata": {},
   "source": [
    "Lets generate a random list (that will be our predictions list), and populate it with 0 and 1."
   ]
  },
  {
   "cell_type": "code",
   "execution_count": 6,
   "id": "integrated-labor",
   "metadata": {},
   "outputs": [
    {
     "name": "stdout",
     "output_type": "stream",
     "text": [
      "[0, 1, 1, 1, 0, 1, 1, 1, 0, 0]\n"
     ]
    }
   ],
   "source": [
    "# generate a list with 891 elements, and shuffle elements.\n",
    "import random\n",
    "model_predictions = [0] * 445 + [1] * 446\n",
    "\n",
    "random.shuffle(model_predictions)\n",
    "\n",
    "print(model_predictions[0:10])\n"
   ]
  },
  {
   "cell_type": "code",
   "execution_count": 7,
   "id": "gentle-insert",
   "metadata": {},
   "outputs": [
    {
     "name": "stdout",
     "output_type": "stream",
     "text": [
      "(891, 1)\n"
     ]
    }
   ],
   "source": [
    "# turn list into a dataframe\n",
    "model_predictions_df = pd.DataFrame(model_predictions, columns=[\"Prediction\"])\n",
    "\n",
    "print(model_predictions_df.shape)\n"
   ]
  },
  {
   "cell_type": "code",
   "execution_count": 8,
   "id": "extra-roads",
   "metadata": {},
   "outputs": [
    {
     "name": "stdout",
     "output_type": "stream",
     "text": [
      "   Prediction\n",
      "0           0\n",
      "1           1\n",
      "2           1\n",
      "3           1\n",
      "4           0\n",
      "5           1\n",
      "6           1\n",
      "7           1\n",
      "8           0\n",
      "9           0\n"
     ]
    }
   ],
   "source": [
    "# print first 10 rows of predicted data\n",
    "print(model_predictions_df.head(10))"
   ]
  },
  {
   "cell_type": "markdown",
   "id": "second-tulsa",
   "metadata": {},
   "source": [
    "So far, we have obtained a data set with real values, is_survived, and generated a prediction data set, model_predictions_df.\n"
   ]
  },
  {
   "cell_type": "markdown",
   "id": "widespread-microwave",
   "metadata": {},
   "source": [
    "## Evaluation\n",
    "We need to evaluate the data is_survived and the model_predictions_df, using evaluation metrics for our binary classification problem.\n",
    "The metrics to be used:\n",
    "    \n",
    "    - Accuracy \n",
    "    - Precision-Recall\n",
    "    - ROC_AUC\n",
    "    - Log-loss\n",
    "     "
   ]
  },
  {
   "cell_type": "markdown",
   "id": "prepared-nightlife",
   "metadata": {},
   "source": [
    "### Confusion matrix and Accuracy"
   ]
  },
  {
   "cell_type": "code",
   "execution_count": 53,
   "id": "young-courage",
   "metadata": {},
   "outputs": [
    {
     "name": "stdout",
     "output_type": "stream",
     "text": [
      "     0    1\n",
      "0  275  274\n",
      "1  170  172\n"
     ]
    }
   ],
   "source": [
    "import numpy as np\n",
    "import matplotlib.pyplot as plt\n",
    "import seaborn as sns\n",
    "import sklearn\n",
    "from sklearn import metrics\n",
    "\n",
    "# check for confusion matrix\n",
    "\n",
    "conf_ma = confusion_matrix(is_survived, model_predictions_df)\n",
    "conf_ma_df = pd.DataFrame(conf_ma)\n",
    "\n",
    "print(conf_ma_df.head())\n"
   ]
  },
  {
   "cell_type": "code",
   "execution_count": 54,
   "id": "expired-universe",
   "metadata": {},
   "outputs": [
    {
     "data": {
      "image/png": "[encoded data removed]",
      "text/plain": [
       "<Figure size 504x504 with 1 Axes>"
      ]
     },
     "metadata": {
      "needs_background": "light"
     },
     "output_type": "display_data"
    }
   ],
   "source": [
    "# show Confusion Matrix\n",
    "fig, ax = plt.subplots(figsize = (7,7))\n",
    "sns.heatmap(cm_dummy_df.T, annot=True, annot_kws={\"size\": 15}, cmap=\"PiYG\", vmin=0, vmax=800, fmt='.0f', linewidths=1, linecolor=\"white\", cbar=False,\n",
    "           xticklabels=[\"not survived\",\"survived\"], yticklabels=[\"no fraud\",\"survived\"])\n",
    "plt.ylabel(\"Predicted\", fontsize=15)\n",
    "plt.xlabel(\"Actual\", fontsize=15)\n",
    "ax.set_xticklabels([\"not survived\",\"survived\"], fontsize=13)\n",
    "ax.set_yticklabels([\"not survived\",\"survived\"], fontsize=13)\n",
    "plt.title(\"Confusion Matrix\", fontsize=15)\n",
    "\n",
    "plt.show()"
   ]
  },
  {
   "cell_type": "markdown",
   "id": "caring-insert",
   "metadata": {},
   "source": [
    "From the data frame matrix, the true positive, true negative, false positive and false negative values are:"
   ]
  },
  {
   "cell_type": "code",
   "execution_count": 55,
   "id": "treated-plenty",
   "metadata": {},
   "outputs": [
    {
     "name": "stdout",
     "output_type": "stream",
     "text": [
      "True Positive: 172\n",
      "True Negative: 275\n",
      "False Positive: 274\n",
      "False Negative: 170\n"
     ]
    }
   ],
   "source": [
    "tp = conf_ma_df.iloc[1,1]\n",
    "tn = conf_ma_df.iloc[0,0]\n",
    "fp = conf_ma_df.iloc[0,1]\n",
    "fn = conf_ma_df.iloc[1,0]\n",
    "print(f\"True Positive: {tp}\",f\"True Negative: {tn}\",f\"False Positive: {fp}\",f\"False Negative: {fn}\", sep='\\n' )"
   ]
  },
  {
   "cell_type": "code",
   "execution_count": 56,
   "id": "comfortable-rally",
   "metadata": {},
   "outputs": [
    {
     "name": "stdout",
     "output_type": "stream",
     "text": [
      "0.5016835016835017\n"
     ]
    }
   ],
   "source": [
    "# calculate accuracy of our random model \n",
    "accuracy = (tp + tn)/(tp + tn + fp + fn)\n",
    "print(accuracy)"
   ]
  },
  {
   "cell_type": "markdown",
   "id": "trained-black",
   "metadata": {},
   "source": [
    "Our model can predict outcomes with a 50.17% accuracy."
   ]
  },
  {
   "cell_type": "markdown",
   "id": "owned-marriage",
   "metadata": {},
   "source": [
    "Checking precision,sensitivity, and specificity of our model:\n"
   ]
  },
  {
   "cell_type": "code",
   "execution_count": 62,
   "id": "recognized-flash",
   "metadata": {},
   "outputs": [
    {
     "name": "stdout",
     "output_type": "stream",
     "text": [
      "Precision value for our model: 0.386.\n",
      "Sensitivy value for our model: 0.503.\n",
      "Specificity value for our model: 0.501.\n"
     ]
    }
   ],
   "source": [
    "precision = round(tp / (tp + fp),3)\n",
    "sensitivity = round(tp / (tp + fn),3)\n",
    "specificity = round(tn / (tn + fp),3)\n",
    "\n",
    "print(f\"Precision value for our model: {precision}.\",\n",
    "      f\"Sensitivy value for our model: {sensitivity}.\",\n",
    "      f\"Specificity value for our model: {specificity}.\", sep=\"\\n\")"
   ]
  },
  {
   "cell_type": "markdown",
   "id": "german-trader",
   "metadata": {},
   "source": [
    "### ROC-AUC\n",
    "AUC - ROCc curve helps to visualize the performance of classification problems. It tells us how much the model can distinguish the classes. Higher AUC, the better the model is at predicting 0s as 0s and 1s as 1s.\n",
    "AUC stands for area under the curve, and ROC stands for receiver operating characteristics. \n",
    "\n"
   ]
  },
  {
   "cell_type": "code",
   "execution_count": 58,
   "id": "herbal-amino",
   "metadata": {},
   "outputs": [
    {
     "data": {
      "image/png": "[encoded data removed]",
      "text/plain": [
       "<Figure size 720x720 with 1 Axes>"
      ]
     },
     "metadata": {
      "needs_background": "light"
     },
     "output_type": "display_data"
    }
   ],
   "source": [
    "# generating report\n",
    "report = classification_report(is_survived,model_predictions_df,digits=3,output_dict = True)\n",
    "\n",
    "# Plot the ROC curve\n",
    "# Generate points to plot on ROC curve \n",
    "fpr_model, tpr_model, thresholds_ = roc_curve(is_survived, model_predictions_df[:])\n",
    "\n",
    "fig, ax = plt.subplots(figsize = (10,10))\n",
    "\n",
    "# Plot the \"guessing\" model\n",
    "plt.plot([0, 1], [0, 1], 'k--')\n",
    "\n",
    "# Plot the random\n",
    "plt.plot(fpr_model, tpr_model)\n",
    "plt.fill_between(fpr_model, tpr_model, alpha=0.2, color='b')\n",
    "plt.xlabel('False Positive Rate')\n",
    "plt.ylabel('True Positive Rate')\n",
    "plt.title('ROC curve: AUC={0:0.3f}'.format(roc_auc_score(is_survived,model_predictions_df[:])))\n",
    "plt.show()"
   ]
  },
  {
   "cell_type": "code",
   "execution_count": 59,
   "id": "initial-namibia",
   "metadata": {},
   "outputs": [
    {
     "name": "stdout",
     "output_type": "stream",
     "text": [
      "0.502\n"
     ]
    }
   ],
   "source": [
    "auc = roc_auc_score(is_survived,model_predictions_df[:])\n",
    "print(round(auc,3))"
   ]
  },
  {
   "cell_type": "markdown",
   "id": "addressed-emission",
   "metadata": {},
   "source": [
    "\n",
    "Our model has the AUC equal to 0.502, which means that our random model can not discriminate the classes in our classification problem. This is the worst situation case."
   ]
  },
  {
   "cell_type": "markdown",
   "id": "gentle-interstate",
   "metadata": {},
   "source": [
    "### Precision-Recall\n",
    "Lets examine the effectiveness of our random model using precision and recall. We plot the precision and recall for different threshold values.\n",
    "\n",
    "\n"
   ]
  },
  {
   "cell_type": "code",
   "execution_count": 70,
   "id": "confidential-homework",
   "metadata": {},
   "outputs": [
    {
     "data": {
      "image/png": "[encoded data removed]",
      "text/plain": [
       "<Figure size 720x720 with 1 Axes>"
      ]
     },
     "metadata": {
      "needs_background": "light"
     },
     "output_type": "display_data"
    }
   ],
   "source": [
    "# generate points for the plot of the recall precision curve\n",
    "precision, recall, thresholds = precision_recall_curve(is_survived, model_predictions_df)\n",
    "\n",
    "plt.figure(figsize = (10,10))\n",
    "plt.plot([0, 1], [0.5, 0.5],'k--')\n",
    "plt.plot(recall, precision)\n",
    "plt.xlabel('Recall - sensitivity')\n",
    "plt.ylabel('Precision')\n",
    "plt.title('Precision-Recall curve')\n",
    "plt.show()\n"
   ]
  },
  {
   "cell_type": "markdown",
   "id": "colored-broadcast",
   "metadata": {},
   "source": [
    "Generally, a good precision-recall curve will passes through the right corner (which would correspond to 100% precision and 100% recall). That would mean fp and fn equal to zero. Looking to our curve, we see that it performed terrible, being far from the right upper corner. This is confirmed because we have a low value for the precision, and a high value for the sensitivity (precision: 0.386; sensitivy: 0.503)."
   ]
  },
  {
   "cell_type": "markdown",
   "id": "remarkable-decrease",
   "metadata": {},
   "source": [
    "### Log-Loss"
   ]
  }
 ],
 "metadata": {
  "kernelspec": {
   "display_name": "Python 3",
   "language": "python",
   "name": "python3"
  },
  "language_info": {
   "codemirror_mode": {
    "name": "ipython",
    "version": 3
   },
   "file_extension": ".py",
   "mimetype": "text/x-python",
   "name": "python",
   "nbconvert_exporter": "python",
   "pygments_lexer": "ipython3",
   "version": "3.6.9"
  }
 },
 "nbformat": 4,
 "nbformat_minor": 5
}
