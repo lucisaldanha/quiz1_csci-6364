{
 "cells": [
  {
   "cell_type": "markdown",
   "id": "textile-prague",
   "metadata": {},
   "source": [
    "## TAKE HOME QUIZ 1.a\n"
   ]
  },
  {
   "cell_type": "markdown",
   "id": "green-clause",
   "metadata": {},
   "source": [
    "#### Lucieni A. da Gama Saldanha"
   ]
  },
  {
   "cell_type": "markdown",
   "id": "composite-incident",
   "metadata": {},
   "source": [
    "This quiz was proposed for the spring 2021 CSCI- 6364 class. \n",
    "\n"
   ]
  },
  {
   "cell_type": "markdown",
   "id": "healthy-tooth",
   "metadata": {},
   "source": [
    "Article: Fox, Maggie. (2020, May 26). CNN Health. Antibody tests for Covid-19 wrong up to half the time, CDC says. Retrieved from  https://www.cnn.com/2020/05/26/health/antibody-tests-cdc-coronavirus-wrong/index.html"
   ]
  },
  {
   "cell_type": "markdown",
   "id": "separated-morocco",
   "metadata": {},
   "source": [
    "## Article ideas\n"
   ]
  },
  {
   "cell_type": "markdown",
   "id": "forbidden-davis",
   "metadata": {},
   "source": [
    "A new CDC guidance rejecting the use of serologic test to policy decisions because even with a high accuracy measurement, it can give a higher number of false negatives, missing cases(Fox, 2020, False positive, false confidence, para. 14). The article suggested that tests give higher accuracy results for a disease more commong among the population. It gave an argument that if 5% of the population tested had the virus, the accuracy of the test could be more than 90%, but the test could still miss half the cases. \n"
   ]
  },
  {
   "cell_type": "markdown",
   "id": "unknown-subsection",
   "metadata": {},
   "source": [
    "## Analyzing the article measurements"
   ]
  },
  {
   "cell_type": "markdown",
   "id": "dying-skiing",
   "metadata": {},
   "source": [
    "to be concluded\n"
   ]
  }
 ],
 "metadata": {
  "kernelspec": {
   "display_name": "Python 3",
   "language": "python",
   "name": "python3"
  },
  "language_info": {
   "codemirror_mode": {
    "name": "ipython",
    "version": 3
   },
   "file_extension": ".py",
   "mimetype": "text/x-python",
   "name": "python",
   "nbconvert_exporter": "python",
   "pygments_lexer": "ipython3",
   "version": "3.6.9"
  }
 },
 "nbformat": 4,
 "nbformat_minor": 5
}
